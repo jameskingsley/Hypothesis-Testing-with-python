{
 "cells": [
  {
   "cell_type": "code",
   "execution_count": 4,
   "id": "00e85a7e",
   "metadata": {},
   "outputs": [
    {
     "data": {
      "text/html": [
       "\n",
       "        <iframe\n",
       "            width=\"100%\"\n",
       "            height=\"650\"\n",
       "            src=\"http://127.0.0.1:8050/\"\n",
       "            frameborder=\"0\"\n",
       "            allowfullscreen\n",
       "            \n",
       "        ></iframe>\n",
       "        "
      ],
      "text/plain": [
       "<IPython.lib.display.IFrame at 0x1479eba0850>"
      ]
     },
     "metadata": {},
     "output_type": "display_data"
    }
   ],
   "source": [
    "import dash\n",
    "from dash import dcc, html\n",
    "import plotly.express as px\n",
    "import pandas as pd\n",
    "import dash_bootstrap_components as dbc\n",
    "from dash.dependencies import Input, Output\n",
    "\n",
    "# Load dataset\n",
    "df = pd.read_csv(r'Sleep_health_and_lifestyle_dataset.csv')\n",
    "\n",
    "# Preprocessing\n",
    "with_disorder = df[df['Sleep Disorder'] != 'None']\n",
    "without_disorder = df[df['Sleep Disorder'] == 'None']\n",
    "\n",
    "# App\n",
    "app = dash.Dash(__name__, external_stylesheets=[dbc.themes.BOOTSTRAP])\n",
    "\n",
    "# Layout\n",
    "app.layout = dbc.Container([\n",
    "    dbc.Row([\n",
    "        dbc.Col(html.H2(\"Sleep and Health Data Dashboard\"), width=12)\n",
    "    ], className='mb-4'),\n",
    "\n",
    "    dbc.Row([\n",
    "        dbc.Col(dcc.Graph(\n",
    "            figure=px.histogram(df, x='Sleep Duration', nbins=20, title='Distribution of Sleep Duration')\n",
    "        ), md=6),\n",
    "\n",
    "        dbc.Col(dcc.Graph(\n",
    "            figure=px.pie(df, names='Sleep Disorder', title='Most Common Sleep Disorder')\n",
    "        ), md=6),\n",
    "    ]),\n",
    "\n",
    "    dbc.Row([\n",
    "        dbc.Col(dcc.Graph(\n",
    "            figure=px.box(df, x='Sleep Disorder', y='Sleep Duration', title='Sleep Duration by Sleep Disorder')\n",
    "        ), md=6),\n",
    "\n",
    "        dbc.Col(dcc.Graph(\n",
    "            figure=px.histogram(df, x='Stress Level', y='Sleep Duration', histfunc='avg', title='Average Sleep Duration by Stress Level')\n",
    "        ), md=6)\n",
    "    ]),\n",
    "\n",
    "    dbc.Row([\n",
    "        dbc.Col(dcc.Graph(\n",
    "            figure=px.bar(df['Occupation'].value_counts().reset_index().rename(columns={'index': 'Occupation', 'Occupation': 'Count'}),\n",
    "                          x='Occupation', y='Count', title='Occupation Distribution')\n",
    "        ), md=6),\n",
    "\n",
    "        dbc.Col(dcc.Graph(\n",
    "            figure=px.histogram(df, x='Physical Activity Level', y='Quality of Sleep', histfunc='avg',\n",
    "                                title='Quality of Sleep by Physical Activity Level')\n",
    "        ), md=6)\n",
    "    ]),\n",
    "\n",
    "    dbc.Row([\n",
    "        dbc.Col(dcc.Graph(\n",
    "            figure=px.histogram(df, x='BMI Category', title='Most Common BMI Category')\n",
    "        ), md=6),\n",
    "\n",
    "        dbc.Col(dcc.Graph(\n",
    "            figure=px.scatter(df, x='Heart Rate', y='Quality of Sleep', trendline='ols',\n",
    "                              title='Sleep Quality vs. Heart Rate')\n",
    "        ), md=6)\n",
    "    ]),\n",
    "\n",
    "    dbc.Row([\n",
    "        dbc.Col(dcc.Graph(\n",
    "            figure=px.histogram(df, x='Blood Pressure', y='Quality of Sleep', histfunc='avg',\n",
    "                                title='Sleep Quality by Blood Pressure Category')\n",
    "        ), md=6),\n",
    "\n",
    "        dbc.Col(dcc.Graph(\n",
    "            figure=px.histogram(df, x='Age', y='Daily Steps', histfunc='avg', nbins=20,\n",
    "                                title='Average Daily Steps by Age Group')\n",
    "        ), md=6)\n",
    "    ])\n",
    "], fluid=True)\n",
    "\n",
    "if __name__ == '__main__':\n",
    "    app.run(debug=True)\n"
   ]
  },
  {
   "cell_type": "code",
   "execution_count": null,
   "id": "1fd93002",
   "metadata": {},
   "outputs": [],
   "source": []
  }
 ],
 "metadata": {
  "kernelspec": {
   "display_name": "Python 3 (ipykernel)",
   "language": "python",
   "name": "python3"
  },
  "language_info": {
   "codemirror_mode": {
    "name": "ipython",
    "version": 3
   },
   "file_extension": ".py",
   "mimetype": "text/x-python",
   "name": "python",
   "nbconvert_exporter": "python",
   "pygments_lexer": "ipython3",
   "version": "3.11.5"
  }
 },
 "nbformat": 4,
 "nbformat_minor": 5
}
